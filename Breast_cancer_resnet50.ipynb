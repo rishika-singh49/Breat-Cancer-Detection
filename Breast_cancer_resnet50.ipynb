{
  "cells": [
    {
      "cell_type": "code",
      "execution_count": 16,
      "metadata": {
        "id": "zpZ-nMPwyIhD",
        "colab": {
          "base_uri": "https://localhost:8080/"
        },
        "outputId": "b36334a7-4bba-4679-f3b9-880a9a12104a"
      },
      "outputs": [
        {
          "output_type": "stream",
          "name": "stdout",
          "text": [
            "Drive already mounted at /content/drive; to attempt to forcibly remount, call drive.mount(\"/content/drive\", force_remount=True).\n"
          ]
        }
      ],
      "source": [
        "\n",
        "# importing google drive\n",
        "from google.colab import drive\n",
        "drive.mount('/content/drive')\n",
        "     \n",
        "  # This Python 3 environment comes with many helpful analytics libraries installed\n",
        "\n",
        "import numpy as np # linear algebra\n",
        "import pandas as pd # data processing, CSV file I/O (e.g. pd.read_csv)\n",
        "import matplotlib.pyplot as plt\n",
        "import seaborn as sns\n",
        "\n",
        "import os\n",
        "\n",
        "#required libraries\n",
        "import cv2\n",
        "from tqdm import tqdm\n",
        "from sklearn.metrics import confusion_matrix\n",
        "from sklearn.model_selection import train_test_split\n",
        "from tensorflow.keras.layers import Input\n",
        "from keras.utils.np_utils import to_categorical\n",
        "from keras.models import Model, Sequential, load_model\n",
        "from keras.layers import Dense, Dropout, Flatten, Conv2D, MaxPooling2D, BatchNormalization, AveragePooling2D, GlobalAveragePooling2D,Activation\n",
        "from tensorflow.keras.optimizers.legacy import Adam\n",
        "from keras.preprocessing.image import ImageDataGenerator\n",
        "from keras.callbacks import ModelCheckpoint, ReduceLROnPlateau\n",
        "from keras.applications import DenseNet121\n",
        "from keras.models import Sequential\n",
        "import tensorflow as tf\n",
        "from tensorflow import keras\n",
        "from tensorflow.keras import layers\n",
        "import PIL\n"
      ]
    },
    {
      "cell_type": "code",
      "execution_count": null,
      "metadata": {
        "id": "9dlhpWzXyxf_"
      },
      "outputs": [],
      "source": [
        "\n",
        "classes_types=['M', 'B','N']\n",
        "data_dir = '/content/drive/MyDrive/data/Breast Cancer Dataset'\n",
        "train_dir = os.path.join(data_dir)\n",
        "\n",
        "     "
      ]
    },
    {
      "cell_type": "code",
      "execution_count": null,
      "metadata": {
        "colab": {
          "base_uri": "https://localhost:8080/",
          "height": 206
        },
        "id": "S9BWgnjDyLts",
        "outputId": "6fea038e-33c1-41a6-afae-d2a775cbf538"
      },
      "outputs": [
        {
          "output_type": "execute_result",
          "data": {
            "text/plain": [
              "           File  Class ID Class Type\n",
              "0  M/mdb130.pgm         0          M\n",
              "1  M/mdb124.pgm         0          M\n",
              "2  M/mdb110.pgm         0          M\n",
              "3  M/mdb102.pgm         0          M\n",
              "4  M/mdb058.pgm         0          M"
            ],
            "text/html": [
              "\n",
              "  <div id=\"df-4200e611-f50a-4aac-aeca-782accee542a\">\n",
              "    <div class=\"colab-df-container\">\n",
              "      <div>\n",
              "<style scoped>\n",
              "    .dataframe tbody tr th:only-of-type {\n",
              "        vertical-align: middle;\n",
              "    }\n",
              "\n",
              "    .dataframe tbody tr th {\n",
              "        vertical-align: top;\n",
              "    }\n",
              "\n",
              "    .dataframe thead th {\n",
              "        text-align: right;\n",
              "    }\n",
              "</style>\n",
              "<table border=\"1\" class=\"dataframe\">\n",
              "  <thead>\n",
              "    <tr style=\"text-align: right;\">\n",
              "      <th></th>\n",
              "      <th>File</th>\n",
              "      <th>Class ID</th>\n",
              "      <th>Class Type</th>\n",
              "    </tr>\n",
              "  </thead>\n",
              "  <tbody>\n",
              "    <tr>\n",
              "      <th>0</th>\n",
              "      <td>M/mdb130.pgm</td>\n",
              "      <td>0</td>\n",
              "      <td>M</td>\n",
              "    </tr>\n",
              "    <tr>\n",
              "      <th>1</th>\n",
              "      <td>M/mdb124.pgm</td>\n",
              "      <td>0</td>\n",
              "      <td>M</td>\n",
              "    </tr>\n",
              "    <tr>\n",
              "      <th>2</th>\n",
              "      <td>M/mdb110.pgm</td>\n",
              "      <td>0</td>\n",
              "      <td>M</td>\n",
              "    </tr>\n",
              "    <tr>\n",
              "      <th>3</th>\n",
              "      <td>M/mdb102.pgm</td>\n",
              "      <td>0</td>\n",
              "      <td>M</td>\n",
              "    </tr>\n",
              "    <tr>\n",
              "      <th>4</th>\n",
              "      <td>M/mdb058.pgm</td>\n",
              "      <td>0</td>\n",
              "      <td>M</td>\n",
              "    </tr>\n",
              "  </tbody>\n",
              "</table>\n",
              "</div>\n",
              "      <button class=\"colab-df-convert\" onclick=\"convertToInteractive('df-4200e611-f50a-4aac-aeca-782accee542a')\"\n",
              "              title=\"Convert this dataframe to an interactive table.\"\n",
              "              style=\"display:none;\">\n",
              "        \n",
              "  <svg xmlns=\"http://www.w3.org/2000/svg\" height=\"24px\"viewBox=\"0 0 24 24\"\n",
              "       width=\"24px\">\n",
              "    <path d=\"M0 0h24v24H0V0z\" fill=\"none\"/>\n",
              "    <path d=\"M18.56 5.44l.94 2.06.94-2.06 2.06-.94-2.06-.94-.94-2.06-.94 2.06-2.06.94zm-11 1L8.5 8.5l.94-2.06 2.06-.94-2.06-.94L8.5 2.5l-.94 2.06-2.06.94zm10 10l.94 2.06.94-2.06 2.06-.94-2.06-.94-.94-2.06-.94 2.06-2.06.94z\"/><path d=\"M17.41 7.96l-1.37-1.37c-.4-.4-.92-.59-1.43-.59-.52 0-1.04.2-1.43.59L10.3 9.45l-7.72 7.72c-.78.78-.78 2.05 0 2.83L4 21.41c.39.39.9.59 1.41.59.51 0 1.02-.2 1.41-.59l7.78-7.78 2.81-2.81c.8-.78.8-2.07 0-2.86zM5.41 20L4 18.59l7.72-7.72 1.47 1.35L5.41 20z\"/>\n",
              "  </svg>\n",
              "      </button>\n",
              "      \n",
              "  <style>\n",
              "    .colab-df-container {\n",
              "      display:flex;\n",
              "      flex-wrap:wrap;\n",
              "      gap: 12px;\n",
              "    }\n",
              "\n",
              "    .colab-df-convert {\n",
              "      background-color: #E8F0FE;\n",
              "      border: none;\n",
              "      border-radius: 50%;\n",
              "      cursor: pointer;\n",
              "      display: none;\n",
              "      fill: #1967D2;\n",
              "      height: 32px;\n",
              "      padding: 0 0 0 0;\n",
              "      width: 32px;\n",
              "    }\n",
              "\n",
              "    .colab-df-convert:hover {\n",
              "      background-color: #E2EBFA;\n",
              "      box-shadow: 0px 1px 2px rgba(60, 64, 67, 0.3), 0px 1px 3px 1px rgba(60, 64, 67, 0.15);\n",
              "      fill: #174EA6;\n",
              "    }\n",
              "\n",
              "    [theme=dark] .colab-df-convert {\n",
              "      background-color: #3B4455;\n",
              "      fill: #D2E3FC;\n",
              "    }\n",
              "\n",
              "    [theme=dark] .colab-df-convert:hover {\n",
              "      background-color: #434B5C;\n",
              "      box-shadow: 0px 1px 3px 1px rgba(0, 0, 0, 0.15);\n",
              "      filter: drop-shadow(0px 1px 2px rgba(0, 0, 0, 0.3));\n",
              "      fill: #FFFFFF;\n",
              "    }\n",
              "  </style>\n",
              "\n",
              "      <script>\n",
              "        const buttonEl =\n",
              "          document.querySelector('#df-4200e611-f50a-4aac-aeca-782accee542a button.colab-df-convert');\n",
              "        buttonEl.style.display =\n",
              "          google.colab.kernel.accessAllowed ? 'block' : 'none';\n",
              "\n",
              "        async function convertToInteractive(key) {\n",
              "          const element = document.querySelector('#df-4200e611-f50a-4aac-aeca-782accee542a');\n",
              "          const dataTable =\n",
              "            await google.colab.kernel.invokeFunction('convertToInteractive',\n",
              "                                                     [key], {});\n",
              "          if (!dataTable) return;\n",
              "\n",
              "          const docLinkHtml = 'Like what you see? Visit the ' +\n",
              "            '<a target=\"_blank\" href=https://colab.research.google.com/notebooks/data_table.ipynb>data table notebook</a>'\n",
              "            + ' to learn more about interactive tables.';\n",
              "          element.innerHTML = '';\n",
              "          dataTable['output_type'] = 'display_data';\n",
              "          await google.colab.output.renderOutput(dataTable, element);\n",
              "          const docLink = document.createElement('div');\n",
              "          docLink.innerHTML = docLinkHtml;\n",
              "          element.appendChild(docLink);\n",
              "        }\n",
              "      </script>\n",
              "    </div>\n",
              "  </div>\n",
              "  "
            ]
          },
          "metadata": {},
          "execution_count": 3
        }
      ],
      "source": [
        "train_data = []\n",
        "for defects_id, sp in enumerate(classes_types):\n",
        "    for file in os.listdir(os.path.join(train_dir, sp)):\n",
        "        train_data.append(['{}/{}'.format(sp, file), defects_id, sp])\n",
        "        \n",
        "train = pd.DataFrame(train_data, columns=['File', 'Class ID','Class Type'])\n",
        "train.head()\n"
      ]
    },
    {
      "cell_type": "code",
      "execution_count": null,
      "metadata": {
        "colab": {
          "base_uri": "https://localhost:8080/",
          "height": 206
        },
        "id": "oD_jP2b8yPIH",
        "outputId": "238a5205-c7ad-4e9a-f06d-8314221d340e"
      },
      "outputs": [
        {
          "output_type": "execute_result",
          "data": {
            "text/plain": [
              "           File  Class ID Class Type\n",
              "0  N/mdb098.pgm         2          N\n",
              "1  N/mdb038.pgm         2          N\n",
              "2  N/mdb146.pgm         2          N\n",
              "3  M/mdb072.pgm         0          M\n",
              "4  B/mdb227.pgm         1          B"
            ],
            "text/html": [
              "\n",
              "  <div id=\"df-24e4e5cb-abc1-4d84-9a91-4afb0421e171\">\n",
              "    <div class=\"colab-df-container\">\n",
              "      <div>\n",
              "<style scoped>\n",
              "    .dataframe tbody tr th:only-of-type {\n",
              "        vertical-align: middle;\n",
              "    }\n",
              "\n",
              "    .dataframe tbody tr th {\n",
              "        vertical-align: top;\n",
              "    }\n",
              "\n",
              "    .dataframe thead th {\n",
              "        text-align: right;\n",
              "    }\n",
              "</style>\n",
              "<table border=\"1\" class=\"dataframe\">\n",
              "  <thead>\n",
              "    <tr style=\"text-align: right;\">\n",
              "      <th></th>\n",
              "      <th>File</th>\n",
              "      <th>Class ID</th>\n",
              "      <th>Class Type</th>\n",
              "    </tr>\n",
              "  </thead>\n",
              "  <tbody>\n",
              "    <tr>\n",
              "      <th>0</th>\n",
              "      <td>N/mdb098.pgm</td>\n",
              "      <td>2</td>\n",
              "      <td>N</td>\n",
              "    </tr>\n",
              "    <tr>\n",
              "      <th>1</th>\n",
              "      <td>N/mdb038.pgm</td>\n",
              "      <td>2</td>\n",
              "      <td>N</td>\n",
              "    </tr>\n",
              "    <tr>\n",
              "      <th>2</th>\n",
              "      <td>N/mdb146.pgm</td>\n",
              "      <td>2</td>\n",
              "      <td>N</td>\n",
              "    </tr>\n",
              "    <tr>\n",
              "      <th>3</th>\n",
              "      <td>M/mdb072.pgm</td>\n",
              "      <td>0</td>\n",
              "      <td>M</td>\n",
              "    </tr>\n",
              "    <tr>\n",
              "      <th>4</th>\n",
              "      <td>B/mdb227.pgm</td>\n",
              "      <td>1</td>\n",
              "      <td>B</td>\n",
              "    </tr>\n",
              "  </tbody>\n",
              "</table>\n",
              "</div>\n",
              "      <button class=\"colab-df-convert\" onclick=\"convertToInteractive('df-24e4e5cb-abc1-4d84-9a91-4afb0421e171')\"\n",
              "              title=\"Convert this dataframe to an interactive table.\"\n",
              "              style=\"display:none;\">\n",
              "        \n",
              "  <svg xmlns=\"http://www.w3.org/2000/svg\" height=\"24px\"viewBox=\"0 0 24 24\"\n",
              "       width=\"24px\">\n",
              "    <path d=\"M0 0h24v24H0V0z\" fill=\"none\"/>\n",
              "    <path d=\"M18.56 5.44l.94 2.06.94-2.06 2.06-.94-2.06-.94-.94-2.06-.94 2.06-2.06.94zm-11 1L8.5 8.5l.94-2.06 2.06-.94-2.06-.94L8.5 2.5l-.94 2.06-2.06.94zm10 10l.94 2.06.94-2.06 2.06-.94-2.06-.94-.94-2.06-.94 2.06-2.06.94z\"/><path d=\"M17.41 7.96l-1.37-1.37c-.4-.4-.92-.59-1.43-.59-.52 0-1.04.2-1.43.59L10.3 9.45l-7.72 7.72c-.78.78-.78 2.05 0 2.83L4 21.41c.39.39.9.59 1.41.59.51 0 1.02-.2 1.41-.59l7.78-7.78 2.81-2.81c.8-.78.8-2.07 0-2.86zM5.41 20L4 18.59l7.72-7.72 1.47 1.35L5.41 20z\"/>\n",
              "  </svg>\n",
              "      </button>\n",
              "      \n",
              "  <style>\n",
              "    .colab-df-container {\n",
              "      display:flex;\n",
              "      flex-wrap:wrap;\n",
              "      gap: 12px;\n",
              "    }\n",
              "\n",
              "    .colab-df-convert {\n",
              "      background-color: #E8F0FE;\n",
              "      border: none;\n",
              "      border-radius: 50%;\n",
              "      cursor: pointer;\n",
              "      display: none;\n",
              "      fill: #1967D2;\n",
              "      height: 32px;\n",
              "      padding: 0 0 0 0;\n",
              "      width: 32px;\n",
              "    }\n",
              "\n",
              "    .colab-df-convert:hover {\n",
              "      background-color: #E2EBFA;\n",
              "      box-shadow: 0px 1px 2px rgba(60, 64, 67, 0.3), 0px 1px 3px 1px rgba(60, 64, 67, 0.15);\n",
              "      fill: #174EA6;\n",
              "    }\n",
              "\n",
              "    [theme=dark] .colab-df-convert {\n",
              "      background-color: #3B4455;\n",
              "      fill: #D2E3FC;\n",
              "    }\n",
              "\n",
              "    [theme=dark] .colab-df-convert:hover {\n",
              "      background-color: #434B5C;\n",
              "      box-shadow: 0px 1px 3px 1px rgba(0, 0, 0, 0.15);\n",
              "      filter: drop-shadow(0px 1px 2px rgba(0, 0, 0, 0.3));\n",
              "      fill: #FFFFFF;\n",
              "    }\n",
              "  </style>\n",
              "\n",
              "      <script>\n",
              "        const buttonEl =\n",
              "          document.querySelector('#df-24e4e5cb-abc1-4d84-9a91-4afb0421e171 button.colab-df-convert');\n",
              "        buttonEl.style.display =\n",
              "          google.colab.kernel.accessAllowed ? 'block' : 'none';\n",
              "\n",
              "        async function convertToInteractive(key) {\n",
              "          const element = document.querySelector('#df-24e4e5cb-abc1-4d84-9a91-4afb0421e171');\n",
              "          const dataTable =\n",
              "            await google.colab.kernel.invokeFunction('convertToInteractive',\n",
              "                                                     [key], {});\n",
              "          if (!dataTable) return;\n",
              "\n",
              "          const docLinkHtml = 'Like what you see? Visit the ' +\n",
              "            '<a target=\"_blank\" href=https://colab.research.google.com/notebooks/data_table.ipynb>data table notebook</a>'\n",
              "            + ' to learn more about interactive tables.';\n",
              "          element.innerHTML = '';\n",
              "          dataTable['output_type'] = 'display_data';\n",
              "          await google.colab.output.renderOutput(dataTable, element);\n",
              "          const docLink = document.createElement('div');\n",
              "          docLink.innerHTML = docLinkHtml;\n",
              "          element.appendChild(docLink);\n",
              "        }\n",
              "      </script>\n",
              "    </div>\n",
              "  </div>\n",
              "  "
            ]
          },
          "metadata": {},
          "execution_count": 4
        }
      ],
      "source": [
        "SEED = 42\n",
        "train = train.sample(frac=1, random_state=SEED) \n",
        "train.index = np.arange(len(train)) # Reset indices\n",
        "train.head()\n",
        "     "
      ]
    },
    {
      "cell_type": "code",
      "execution_count": null,
      "metadata": {
        "colab": {
          "base_uri": "https://localhost:8080/",
          "height": 298
        },
        "id": "oEcIVdWlyQnB",
        "outputId": "486e0f10-c585-47bf-9964-ff36c8eb7393"
      },
      "outputs": [
        {
          "output_type": "display_data",
          "data": {
            "text/plain": [
              "<Figure size 432x288 with 1 Axes>"
            ],
            "image/png": "[encoded data removed]"
          },
          "metadata": {
            "needs_background": "light"
          }
        },
        {
          "output_type": "display_data",
          "data": {
            "text/plain": [
              "<Figure size 864x864 with 0 Axes>"
            ]
          },
          "metadata": {}
        }
      ],
      "source": [
        "\n",
        "plt.hist(train['Class ID'])\n",
        "plt.title('Frequency Histogram of Species')\n",
        "plt.figure(figsize=(12, 12))\n",
        "plt.show()"
      ]
    },
    {
      "cell_type": "code",
      "execution_count": null,
      "metadata": {
        "id": "rl7NCyPMyTE0"
      },
      "outputs": [],
      "source": [
        "\n",
        "IMAGE_SIZE = 224\n",
        "def read_image(filepath):\n",
        "    return cv2.imread(os.path.join(data_dir, filepath)) # Loading a color image is the default flag\n",
        "# Resize image to target size\n",
        "def resize_image(image, image_size):\n",
        "    return cv2.resize(image.copy(), image_size, interpolation=cv2.INTER_AREA)\n",
        "    "
      ]
    },
    {
      "cell_type": "code",
      "execution_count": null,
      "metadata": {
        "colab": {
          "base_uri": "https://localhost:8080/"
        },
        "id": "ye1gsZDIyYUZ",
        "outputId": "5abafc5a-b032-4dac-ed0f-e2ace1f7753b"
      },
      "outputs": [
        {
          "output_type": "stream",
          "name": "stderr",
          "text": [
            "322it [00:54,  5.93it/s]"
          ]
        },
        {
          "output_type": "stream",
          "name": "stdout",
          "text": [
            "Train Shape: (322, 224, 224, 3)\n"
          ]
        },
        {
          "output_type": "stream",
          "name": "stderr",
          "text": [
            "\n"
          ]
        }
      ],
      "source": [
        "X_train = np.zeros((train.shape[0], IMAGE_SIZE, IMAGE_SIZE, 3))\n",
        "for i, file in tqdm(enumerate(train['File'].values)):\n",
        "    image = read_image(file)\n",
        "    if image is not None:\n",
        "        X_train[i] = resize_image(image, (IMAGE_SIZE, IMAGE_SIZE))\n",
        "# Normalize the data\n",
        "X_Train = X_train / 255.\n",
        "print('Train Shape: {}'.format(X_Train.shape))\n",
        "     "
      ]
    },
    {
      "cell_type": "code",
      "execution_count": null,
      "metadata": {
        "id": "x5OnvvGLyZ-s"
      },
      "outputs": [],
      "source": [
        "Y_train = train['Class ID'].values\n",
        "Y_train = to_categorical(Y_train, num_classes=3)"
      ]
    },
    {
      "cell_type": "code",
      "execution_count": null,
      "metadata": {
        "id": "IciPCpplybuY"
      },
      "outputs": [],
      "source": [
        "\n",
        "BATCH_SIZE = 64\n",
        "# Split the train and validation sets \n",
        "X_train, X_val, Y_train, Y_val = train_test_split(X_Train, Y_train, test_size=0.2, random_state=SEED)\n",
        "     "
      ]
    },
    {
      "cell_type": "code",
      "execution_count": null,
      "metadata": {
        "id": "OhewIcI2LeTM"
      },
      "outputs": [],
      "source": [
        "import tensorflow as tf\n",
        "from tensorflow.keras.applications import ResNet50\n",
        "from tensorflow.keras.layers import Dense, Flatten\n",
        "from tensorflow.keras.models import Model\n",
        "from tensorflow.keras.optimizers import Adam"
      ]
    },
    {
      "cell_type": "code",
      "execution_count": null,
      "metadata": {
        "colab": {
          "base_uri": "https://localhost:8080/"
        },
        "id": "EEWmx816NQU8",
        "outputId": "f1463942-3ddd-4428-e3df-f0f352ef0ea4"
      },
      "outputs": [
        {
          "output_type": "stream",
          "name": "stdout",
          "text": [
            "Downloading data from https://storage.googleapis.com/tensorflow/keras-applications/resnet/resnet50_weights_tf_dim_ordering_tf_kernels_notop.h5\n",
            "94765736/94765736 [==============================] - 1s 0us/step\n",
            "Epoch 1/50\n",
            "9/9 [==============================] - 79s 8s/step - loss: 14.1675 - accuracy: 0.4047 - val_loss: 8.1277 - val_accuracy: 0.1077\n",
            "Epoch 2/50\n",
            "9/9 [==============================] - 69s 8s/step - loss: 4.9938 - accuracy: 0.4708 - val_loss: 2.1237 - val_accuracy: 0.7231\n",
            "Epoch 3/50\n",
            "9/9 [==============================] - 69s 8s/step - loss: 2.1612 - accuracy: 0.6187 - val_loss: 1.3248 - val_accuracy: 0.1385\n",
            "Epoch 4/50\n",
            "9/9 [==============================] - 69s 8s/step - loss: 1.2294 - accuracy: 0.5253 - val_loss: 1.0092 - val_accuracy: 0.5538\n",
            "Epoch 5/50\n",
            "9/9 [==============================] - 69s 8s/step - loss: 1.0010 - accuracy: 0.5875 - val_loss: 0.8026 - val_accuracy: 0.7231\n",
            "Epoch 6/50\n",
            "9/9 [==============================] - 70s 8s/step - loss: 0.9254 - accuracy: 0.6304 - val_loss: 0.7642 - val_accuracy: 0.7231\n",
            "Epoch 7/50\n",
            "9/9 [==============================] - 67s 8s/step - loss: 0.9144 - accuracy: 0.6226 - val_loss: 2.0872 - val_accuracy: 0.1231\n",
            "Epoch 8/50\n",
            "9/9 [==============================] - 70s 8s/step - loss: 1.7253 - accuracy: 0.4591 - val_loss: 1.3662 - val_accuracy: 0.7231\n",
            "Epoch 9/50\n",
            "9/9 [==============================] - 70s 8s/step - loss: 1.5363 - accuracy: 0.4553 - val_loss: 1.0141 - val_accuracy: 0.7231\n",
            "Epoch 10/50\n",
            "9/9 [==============================] - 70s 8s/step - loss: 1.4460 - accuracy: 0.6226 - val_loss: 0.8992 - val_accuracy: 0.5692\n",
            "Epoch 11/50\n",
            "9/9 [==============================] - 72s 8s/step - loss: 0.9972 - accuracy: 0.5720 - val_loss: 0.7664 - val_accuracy: 0.7231\n",
            "Epoch 12/50\n",
            "9/9 [==============================] - 71s 8s/step - loss: 0.8844 - accuracy: 0.6342 - val_loss: 0.7658 - val_accuracy: 0.7231\n",
            "Epoch 13/50\n",
            "9/9 [==============================] - 70s 8s/step - loss: 0.9037 - accuracy: 0.6148 - val_loss: 1.2931 - val_accuracy: 0.1385\n",
            "Epoch 14/50\n",
            "9/9 [==============================] - 69s 8s/step - loss: 1.3060 - accuracy: 0.5214 - val_loss: 0.8172 - val_accuracy: 0.7385\n",
            "Epoch 15/50\n",
            "9/9 [==============================] - 71s 8s/step - loss: 1.7720 - accuracy: 0.4436 - val_loss: 1.1538 - val_accuracy: 0.7385\n",
            "Epoch 16/50\n",
            "9/9 [==============================] - 66s 7s/step - loss: 1.2018 - accuracy: 0.5097 - val_loss: 0.8813 - val_accuracy: 0.7385\n",
            "Epoch 17/50\n",
            "9/9 [==============================] - 70s 8s/step - loss: 1.1977 - accuracy: 0.6265 - val_loss: 0.8348 - val_accuracy: 0.6615\n",
            "Epoch 18/50\n",
            "9/9 [==============================] - 70s 8s/step - loss: 0.9698 - accuracy: 0.5447 - val_loss: 0.8371 - val_accuracy: 0.7385\n",
            "Epoch 19/50\n",
            "9/9 [==============================] - 69s 8s/step - loss: 0.9841 - accuracy: 0.6148 - val_loss: 0.8321 - val_accuracy: 0.7077\n",
            "Epoch 20/50\n",
            "9/9 [==============================] - 68s 8s/step - loss: 0.9340 - accuracy: 0.6265 - val_loss: 0.8404 - val_accuracy: 0.7385\n",
            "Epoch 21/50\n",
            "9/9 [==============================] - 69s 8s/step - loss: 0.8975 - accuracy: 0.6342 - val_loss: 0.7921 - val_accuracy: 0.7385\n",
            "Epoch 22/50\n",
            "9/9 [==============================] - 70s 8s/step - loss: 0.8694 - accuracy: 0.6420 - val_loss: 0.7794 - val_accuracy: 0.7231\n",
            "Epoch 23/50\n",
            "9/9 [==============================] - 70s 8s/step - loss: 0.8978 - accuracy: 0.6226 - val_loss: 0.7985 - val_accuracy: 0.7231\n",
            "Epoch 24/50\n",
            "9/9 [==============================] - 69s 8s/step - loss: 0.8866 - accuracy: 0.6304 - val_loss: 0.7681 - val_accuracy: 0.7231\n",
            "Epoch 25/50\n",
            "9/9 [==============================] - 69s 8s/step - loss: 0.8716 - accuracy: 0.6304 - val_loss: 0.7877 - val_accuracy: 0.7385\n",
            "Epoch 26/50\n",
            "9/9 [==============================] - 70s 8s/step - loss: 0.8768 - accuracy: 0.6381 - val_loss: 1.0385 - val_accuracy: 0.4462\n",
            "Epoch 27/50\n",
            "9/9 [==============================] - 67s 8s/step - loss: 1.0712 - accuracy: 0.4903 - val_loss: 0.8198 - val_accuracy: 0.7385\n",
            "Epoch 28/50\n",
            "9/9 [==============================] - 70s 8s/step - loss: 0.9522 - accuracy: 0.5603 - val_loss: 0.8177 - val_accuracy: 0.7385\n",
            "Epoch 29/50\n",
            "9/9 [==============================] - 70s 8s/step - loss: 0.9974 - accuracy: 0.6304 - val_loss: 0.8110 - val_accuracy: 0.7385\n",
            "Epoch 30/50\n",
            "9/9 [==============================] - 60s 7s/step - loss: 0.8752 - accuracy: 0.6420 - val_loss: 0.8123 - val_accuracy: 0.7385\n",
            "Epoch 31/50\n",
            "9/9 [==============================] - 69s 8s/step - loss: 0.8622 - accuracy: 0.6381 - val_loss: 0.7936 - val_accuracy: 0.7385\n",
            "Epoch 32/50\n",
            "9/9 [==============================] - 70s 8s/step - loss: 0.9076 - accuracy: 0.6342 - val_loss: 0.8426 - val_accuracy: 0.7385\n",
            "Epoch 33/50\n",
            "9/9 [==============================] - 70s 8s/step - loss: 0.8731 - accuracy: 0.6342 - val_loss: 0.7822 - val_accuracy: 0.7231\n",
            "Epoch 34/50\n",
            "9/9 [==============================] - 69s 8s/step - loss: 0.8711 - accuracy: 0.6381 - val_loss: 0.8280 - val_accuracy: 0.7385\n",
            "Epoch 35/50\n",
            "9/9 [==============================] - 69s 8s/step - loss: 0.8692 - accuracy: 0.6498 - val_loss: 0.7755 - val_accuracy: 0.7385\n",
            "Epoch 36/50\n",
            "9/9 [==============================] - 70s 8s/step - loss: 0.8628 - accuracy: 0.6498 - val_loss: 0.7764 - val_accuracy: 0.7385\n",
            "Epoch 37/50\n",
            "9/9 [==============================] - 70s 8s/step - loss: 0.8743 - accuracy: 0.6381 - val_loss: 0.8057 - val_accuracy: 0.7385\n",
            "Epoch 38/50\n",
            "9/9 [==============================] - 69s 8s/step - loss: 0.8512 - accuracy: 0.6498 - val_loss: 0.7856 - val_accuracy: 0.7385\n",
            "Epoch 39/50\n",
            "9/9 [==============================] - 68s 8s/step - loss: 0.8883 - accuracy: 0.6381 - val_loss: 0.8726 - val_accuracy: 0.7385\n",
            "Epoch 40/50\n",
            "9/9 [==============================] - 70s 8s/step - loss: 0.9089 - accuracy: 0.6459 - val_loss: 0.8630 - val_accuracy: 0.7385\n",
            "Epoch 41/50\n",
            "9/9 [==============================] - 70s 8s/step - loss: 0.8912 - accuracy: 0.6420 - val_loss: 0.8144 - val_accuracy: 0.7385\n",
            "Epoch 42/50\n",
            "9/9 [==============================] - 70s 8s/step - loss: 0.8627 - accuracy: 0.6420 - val_loss: 0.8059 - val_accuracy: 0.7231\n",
            "Epoch 43/50\n",
            "9/9 [==============================] - 69s 8s/step - loss: 0.8763 - accuracy: 0.6420 - val_loss: 0.7674 - val_accuracy: 0.7231\n",
            "Epoch 44/50\n",
            "9/9 [==============================] - 69s 8s/step - loss: 0.8537 - accuracy: 0.6498 - val_loss: 0.8673 - val_accuracy: 0.7385\n",
            "Epoch 45/50\n",
            "9/9 [==============================] - 70s 8s/step - loss: 0.8973 - accuracy: 0.6498 - val_loss: 1.1443 - val_accuracy: 0.2000\n",
            "Epoch 46/50\n",
            "9/9 [==============================] - 70s 8s/step - loss: 1.0648 - accuracy: 0.4903 - val_loss: 1.0102 - val_accuracy: 0.7385\n",
            "Epoch 47/50\n",
            "9/9 [==============================] - 69s 8s/step - loss: 1.0296 - accuracy: 0.6304 - val_loss: 0.9247 - val_accuracy: 0.6154\n",
            "Epoch 48/50\n",
            "9/9 [==============================] - 68s 8s/step - loss: 0.9044 - accuracy: 0.6304 - val_loss: 0.7835 - val_accuracy: 0.7231\n",
            "Epoch 49/50\n",
            "9/9 [==============================] - 69s 8s/step - loss: 0.8761 - accuracy: 0.6498 - val_loss: 0.8628 - val_accuracy: 0.7385\n",
            "Epoch 50/50\n",
            "9/9 [==============================] - ETA: 0s - loss: 0.8793 - accuracy: 0.6498"
          ]
        }
      ],
      "source": [
        "\n",
        "from keras.layers import Dense, Flatten\n",
        "from keras.models import Sequential\n",
        "\n",
        "def create_ResNet50_CNN(input_shape=(224, 224, 3), num_classes=3):\n",
        "    # Load the ResNet50 model pre-trained on ImageNet\n",
        "    base_model = ResNet50(weights='imagenet', include_top=False, input_shape=input_shape)\n",
        "\n",
        "    # Freeze the base model's layers so that they're not trainable\n",
        "    for layer in base_model.layers:\n",
        "        layer.trainable = False\n",
        "\n",
        "    # Create a new model using the ResNet50 base and additional layers\n",
        "    model = Sequential()\n",
        "    model.add(base_model)\n",
        "    model.add(Flatten())\n",
        "    model.add(Dense(256, activation='relu'))\n",
        "    model.add(Dense(num_classes, activation='softmax'))\n",
        "\n",
        "    # Compile the model with categorical cross-entropy loss and Adam optimizer\n",
        "    model.compile(loss='categorical_crossentropy', optimizer='adam', metrics=['accuracy'])\n",
        "\n",
        "    return model\n",
        "\n",
        "# Create a ResNet50-based CNN with default input shape (224x224x3) and 3 output classes\n",
        "model = create_ResNet50_CNN()\n",
        "\n",
        "# Train the model on your data for 50 epochs\n",
        "hist = model.fit(X_train, Y_train, validation_data=(X_val, Y_val), epochs=50)\n"
      ]
    },
    {
      "cell_type": "code",
      "execution_count": 12,
      "metadata": {
        "id": "rYm_Qp6FzPgt",
        "colab": {
          "base_uri": "https://localhost:8080/",
          "height": 724
        },
        "outputId": "4a8fc49b-e90a-48ed-e61c-6c458bb930e1"
      },
      "outputs": [
        {
          "metadata": {
            "tags": null
          },
          "name": "stdout",
          "output_type": "stream",
          "text": [
            "3/3 [==============================] - 13s 3s/step\n"
          ]
        },
        {
          "output_type": "execute_result",
          "data": {
            "text/plain": [
              "Text(0.5, 145.31999999999996, 'Predicted')"
            ]
          },
          "metadata": {},
          "execution_count": 12
        },
        {
          "output_type": "display_data",
          "data": {
            "text/plain": [
              "<Figure size 864x864 with 2 Axes>"
            ],
            "image/png": "[encoded data removed]"
          },
          "metadata": {
            "needs_background": "light"
          }
        }
      ],
      "source": [
        "\n",
        "Y_pred = model.predict(X_val)\n",
        "Y_pred = np.argmax(Y_pred, axis=1)\n",
        "Y_true = np.argmax(Y_val, axis=1)\n",
        "cm = confusion_matrix(Y_true, Y_pred)\n",
        "plt.figure(figsize=(12, 12))\n",
        "ax = sns.heatmap(cm, cmap=plt.cm.Greens, annot=True, square=True)\n",
        "ax.set_ylabel('Actual', fontsize=40)\n",
        "ax.set_xlabel('Predicted', fontsize=40)"
      ]
    },
    {
      "cell_type": "code",
      "execution_count": 13,
      "metadata": {
        "id": "hfsRug9-zRgm",
        "colab": {
          "base_uri": "https://localhost:8080/",
          "height": 573
        },
        "outputId": "cc27748d-8450-46ee-c557-3d5dd77fa6d1"
      },
      "outputs": [
        {
          "output_type": "display_data",
          "data": {
            "text/plain": [
              "<Figure size 432x288 with 1 Axes>"
            ],
            "image/png": "[encoded data removed]"
          },
          "metadata": {
            "needs_background": "light"
          }
        },
        {
          "output_type": "display_data",
          "data": {
            "text/plain": [
              "<Figure size 432x288 with 1 Axes>"
            ],
            "image/png": "[encoded data removed]"
          },
          "metadata": {
            "needs_background": "light"
          }
        }
      ],
      "source": [
        "\n",
        "# accuracy plot \n",
        "plt.plot(hist.history['accuracy'])\n",
        "plt.plot(hist.history['val_accuracy'])\n",
        "plt.title('model accuracy')\n",
        "plt.ylabel('accuracy')\n",
        "plt.xlabel('epoch')\n",
        "plt.legend(['train', 'test'], loc='upper left')\n",
        "plt.show()\n",
        "\n",
        "# loss plot\n",
        "plt.plot(hist.history['loss'])\n",
        "plt.plot(hist.history['val_loss'])\n",
        "plt.title('model loss')\n",
        "plt.ylabel('loss')\n",
        "plt.xlabel('epoch')\n",
        "plt.legend(['train', 'test'], loc='upper left')\n",
        "plt.show()\n",
        "     "
      ]
    },
    {
      "cell_type": "code",
      "execution_count": 14,
      "metadata": {
        "id": "n5ZrW9K2zSVb",
        "colab": {
          "base_uri": "https://localhost:8080/",
          "height": 321
        },
        "outputId": "ba4f5e00-d91a-41bb-f965-51e8fd0c399c"
      },
      "outputs": [
        {
          "output_type": "stream",
          "name": "stdout",
          "text": [
            "1/1 [==============================] - 0s 189ms/step\n",
            "[0.19156192 0.2783176  0.53012043]\n"
          ]
        },
        {
          "output_type": "display_data",
          "data": {
            "text/plain": [
              "<Figure size 432x288 with 1 Axes>"
            ],
            "image/png": "[encoded data removed]"
          },
          "metadata": {
            "needs_background": "light"
          }
        },
        {
          "output_type": "stream",
          "name": "stdout",
          "text": [
            "Prediction: N\n"
          ]
        }
      ],
      "source": [
        "\n",
        "from skimage import io\n",
        "#path='imbalanced/Scratch/Scratch_400.jpg'\n",
        "import keras.utils as image\n",
        "img = image.load_img('/content/drive/MyDrive/data/Breast Cancer Dataset/M/mdb095.pgm', grayscale=False, target_size=(224, 224))\n",
        "show_img=image.load_img('/content/drive/MyDrive/data/Breast Cancer Dataset/M/mdb095.pgm', grayscale=False, target_size=(224, 224))\n",
        "disease_class=['M','B','N']\n",
        "x = image.img_to_array(img)\n",
        "x = np.expand_dims(x, axis = 0)\n",
        "x /= 255\n",
        "custom = model.predict(x)\n",
        "print(custom[0])\n",
        "\n",
        "plt.imshow(show_img)\n",
        "plt.show()\n",
        "\n",
        "a=custom[0]\n",
        "ind=np.argmax(a)\n",
        "        \n",
        "print('Prediction:',disease_class[ind])"
      ]
    }
  ],
  "metadata": {
    "colab": {
      "provenance": []
    },
    "kernelspec": {
      "display_name": "Python 3",
      "name": "python3"
    },
    "language_info": {
      "name": "python"
    }
  },
  "nbformat": 4,
  "nbformat_minor": 0
}