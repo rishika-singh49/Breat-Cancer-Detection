{
  "nbformat": 4,
  "nbformat_minor": 0,
  "metadata": {
    "colab": {
      "provenance": []
    },
    "kernelspec": {
      "name": "python3",
      "display_name": "Python 3"
    },
    "language_info": {
      "name": "python"
    }
  },
  "cells": [
    {
      "cell_type": "code",
      "source": [
        "\n",
        "# importing google drive\n",
        "from google.colab import drive\n",
        "drive.mount('/content/drive')\n",
        "     \n",
        "  # This Python 3 environment comes with many helpful analytics libraries installed\n",
        "\n",
        "import numpy as np # linear algebra\n",
        "import pandas as pd # data processing, CSV file I/O (e.g. pd.read_csv)\n",
        "import matplotlib.pyplot as plt\n",
        "import seaborn as sns\n",
        "\n",
        "import os\n",
        "\n",
        "#required libraries\n",
        "import cv2\n",
        "from tqdm import tqdm\n",
        "from sklearn.metrics import confusion_matrix\n",
        "from sklearn.model_selection import train_test_split\n",
        "from tensorflow.keras.layers import Input\n",
        "from keras.utils.np_utils import to_categorical\n",
        "from keras.models import Model, Sequential, load_model\n",
        "from keras.layers import Dense, Dropout, Flatten, Conv2D, MaxPooling2D, BatchNormalization, AveragePooling2D, GlobalAveragePooling2D,Activation\n",
        "from tensorflow.keras.optimizers.legacy import Adam\n",
        "from keras.preprocessing.image import ImageDataGenerator\n",
        "from keras.callbacks import ModelCheckpoint, ReduceLROnPlateau\n",
        "from keras.applications import DenseNet121\n",
        "from keras.models import Sequential\n",
        "import tensorflow as tf\n",
        "from tensorflow import keras\n",
        "from tensorflow.keras import layers\n",
        "import PIL\n"
      ],
      "metadata": {
        "colab": {
          "base_uri": "https://localhost:8080/"
        },
        "id": "zpZ-nMPwyIhD",
        "outputId": "128bccce-ba95-4876-99b4-5eeccb05877f"
      },
      "execution_count": 1,
      "outputs": [
        {
          "output_type": "stream",
          "name": "stdout",
          "text": [
            "Mounted at /content/drive\n"
          ]
        }
      ]
    },
    {
      "cell_type": "code",
      "source": [
        "\n",
        "classes_types=['M', 'B','N']\n",
        "data_dir = '/content/drive/MyDrive/data/Breast Cancer Dataset'\n",
        "train_dir = os.path.join(data_dir)\n",
        "\n",
        "     "
      ],
      "metadata": {
        "id": "9dlhpWzXyxf_"
      },
      "execution_count": 3,
      "outputs": []
    },
    {
      "cell_type": "code",
      "source": [
        "train_data = []\n",
        "for defects_id, sp in enumerate(classes_types):\n",
        "    for file in os.listdir(os.path.join(train_dir, sp)):\n",
        "        train_data.append(['{}/{}'.format(sp, file), defects_id, sp])\n",
        "        \n",
        "train = pd.DataFrame(train_data, columns=['File', 'Class ID','Class Type'])\n",
        "train.head()\n"
      ],
      "metadata": {
        "colab": {
          "base_uri": "https://localhost:8080/",
          "height": 206
        },
        "id": "S9BWgnjDyLts",
        "outputId": "801ba6fb-f9e3-49b7-b45d-e854bb5936c1"
      },
      "execution_count": 4,
      "outputs": [
        {
          "output_type": "execute_result",
          "data": {
            "text/plain": [
              "           File  Class ID Class Type\n",
              "0  M/mdb130.pgm         0          M\n",
              "1  M/mdb124.pgm         0          M\n",
              "2  M/mdb110.pgm         0          M\n",
              "3  M/mdb102.pgm         0          M\n",
              "4  M/mdb058.pgm         0          M"
            ],
            "text/html": [
              "\n",
              "  <div id=\"df-7ff9b783-fa4e-4416-961c-1fbb132d90e6\">\n",
              "    <div class=\"colab-df-container\">\n",
              "      <div>\n",
              "<style scoped>\n",
              "    .dataframe tbody tr th:only-of-type {\n",
              "        vertical-align: middle;\n",
              "    }\n",
              "\n",
              "    .dataframe tbody tr th {\n",
              "        vertical-align: top;\n",
              "    }\n",
              "\n",
              "    .dataframe thead th {\n",
              "        text-align: right;\n",
              "    }\n",
              "</style>\n",
              "<table border=\"1\" class=\"dataframe\">\n",
              "  <thead>\n",
              "    <tr style=\"text-align: right;\">\n",
              "      <th></th>\n",
              "      <th>File</th>\n",
              "      <th>Class ID</th>\n",
              "      <th>Class Type</th>\n",
              "    </tr>\n",
              "  </thead>\n",
              "  <tbody>\n",
              "    <tr>\n",
              "      <th>0</th>\n",
              "      <td>M/mdb130.pgm</td>\n",
              "      <td>0</td>\n",
              "      <td>M</td>\n",
              "    </tr>\n",
              "    <tr>\n",
              "      <th>1</th>\n",
              "      <td>M/mdb124.pgm</td>\n",
              "      <td>0</td>\n",
              "      <td>M</td>\n",
              "    </tr>\n",
              "    <tr>\n",
              "      <th>2</th>\n",
              "      <td>M/mdb110.pgm</td>\n",
              "      <td>0</td>\n",
              "      <td>M</td>\n",
              "    </tr>\n",
              "    <tr>\n",
              "      <th>3</th>\n",
              "      <td>M/mdb102.pgm</td>\n",
              "      <td>0</td>\n",
              "      <td>M</td>\n",
              "    </tr>\n",
              "    <tr>\n",
              "      <th>4</th>\n",
              "      <td>M/mdb058.pgm</td>\n",
              "      <td>0</td>\n",
              "      <td>M</td>\n",
              "    </tr>\n",
              "  </tbody>\n",
              "</table>\n",
              "</div>\n",
              "      <button class=\"colab-df-convert\" onclick=\"convertToInteractive('df-7ff9b783-fa4e-4416-961c-1fbb132d90e6')\"\n",
              "              title=\"Convert this dataframe to an interactive table.\"\n",
              "              style=\"display:none;\">\n",
              "        \n",
              "  <svg xmlns=\"http://www.w3.org/2000/svg\" height=\"24px\"viewBox=\"0 0 24 24\"\n",
              "       width=\"24px\">\n",
              "    <path d=\"M0 0h24v24H0V0z\" fill=\"none\"/>\n",
              "    <path d=\"M18.56 5.44l.94 2.06.94-2.06 2.06-.94-2.06-.94-.94-2.06-.94 2.06-2.06.94zm-11 1L8.5 8.5l.94-2.06 2.06-.94-2.06-.94L8.5 2.5l-.94 2.06-2.06.94zm10 10l.94 2.06.94-2.06 2.06-.94-2.06-.94-.94-2.06-.94 2.06-2.06.94z\"/><path d=\"M17.41 7.96l-1.37-1.37c-.4-.4-.92-.59-1.43-.59-.52 0-1.04.2-1.43.59L10.3 9.45l-7.72 7.72c-.78.78-.78 2.05 0 2.83L4 21.41c.39.39.9.59 1.41.59.51 0 1.02-.2 1.41-.59l7.78-7.78 2.81-2.81c.8-.78.8-2.07 0-2.86zM5.41 20L4 18.59l7.72-7.72 1.47 1.35L5.41 20z\"/>\n",
              "  </svg>\n",
              "      </button>\n",
              "      \n",
              "  <style>\n",
              "    .colab-df-container {\n",
              "      display:flex;\n",
              "      flex-wrap:wrap;\n",
              "      gap: 12px;\n",
              "    }\n",
              "\n",
              "    .colab-df-convert {\n",
              "      background-color: #E8F0FE;\n",
              "      border: none;\n",
              "      border-radius: 50%;\n",
              "      cursor: pointer;\n",
              "      display: none;\n",
              "      fill: #1967D2;\n",
              "      height: 32px;\n",
              "      padding: 0 0 0 0;\n",
              "      width: 32px;\n",
              "    }\n",
              "\n",
              "    .colab-df-convert:hover {\n",
              "      background-color: #E2EBFA;\n",
              "      box-shadow: 0px 1px 2px rgba(60, 64, 67, 0.3), 0px 1px 3px 1px rgba(60, 64, 67, 0.15);\n",
              "      fill: #174EA6;\n",
              "    }\n",
              "\n",
              "    [theme=dark] .colab-df-convert {\n",
              "      background-color: #3B4455;\n",
              "      fill: #D2E3FC;\n",
              "    }\n",
              "\n",
              "    [theme=dark] .colab-df-convert:hover {\n",
              "      background-color: #434B5C;\n",
              "      box-shadow: 0px 1px 3px 1px rgba(0, 0, 0, 0.15);\n",
              "      filter: drop-shadow(0px 1px 2px rgba(0, 0, 0, 0.3));\n",
              "      fill: #FFFFFF;\n",
              "    }\n",
              "  </style>\n",
              "\n",
              "      <script>\n",
              "        const buttonEl =\n",
              "          document.querySelector('#df-7ff9b783-fa4e-4416-961c-1fbb132d90e6 button.colab-df-convert');\n",
              "        buttonEl.style.display =\n",
              "          google.colab.kernel.accessAllowed ? 'block' : 'none';\n",
              "\n",
              "        async function convertToInteractive(key) {\n",
              "          const element = document.querySelector('#df-7ff9b783-fa4e-4416-961c-1fbb132d90e6');\n",
              "          const dataTable =\n",
              "            await google.colab.kernel.invokeFunction('convertToInteractive',\n",
              "                                                     [key], {});\n",
              "          if (!dataTable) return;\n",
              "\n",
              "          const docLinkHtml = 'Like what you see? Visit the ' +\n",
              "            '<a target=\"_blank\" href=https://colab.research.google.com/notebooks/data_table.ipynb>data table notebook</a>'\n",
              "            + ' to learn more about interactive tables.';\n",
              "          element.innerHTML = '';\n",
              "          dataTable['output_type'] = 'display_data';\n",
              "          await google.colab.output.renderOutput(dataTable, element);\n",
              "          const docLink = document.createElement('div');\n",
              "          docLink.innerHTML = docLinkHtml;\n",
              "          element.appendChild(docLink);\n",
              "        }\n",
              "      </script>\n",
              "    </div>\n",
              "  </div>\n",
              "  "
            ]
          },
          "metadata": {},
          "execution_count": 4
        }
      ]
    },
    {
      "cell_type": "code",
      "source": [
        "SEED = 42\n",
        "train = train.sample(frac=1, random_state=SEED) \n",
        "train.index = np.arange(len(train)) # Reset indices\n",
        "train.head()\n",
        "     "
      ],
      "metadata": {
        "colab": {
          "base_uri": "https://localhost:8080/",
          "height": 206
        },
        "id": "oD_jP2b8yPIH",
        "outputId": "928e6703-07ca-4e2a-a920-baf3adaf596f"
      },
      "execution_count": 5,
      "outputs": [
        {
          "output_type": "execute_result",
          "data": {
            "text/plain": [
              "           File  Class ID Class Type\n",
              "0  N/mdb098.pgm         2          N\n",
              "1  N/mdb038.pgm         2          N\n",
              "2  N/mdb146.pgm         2          N\n",
              "3  M/mdb072.pgm         0          M\n",
              "4  B/mdb227.pgm         1          B"
            ],
            "text/html": [
              "\n",
              "  <div id=\"df-6340d7ac-7749-4775-a28c-00be54c7358d\">\n",
              "    <div class=\"colab-df-container\">\n",
              "      <div>\n",
              "<style scoped>\n",
              "    .dataframe tbody tr th:only-of-type {\n",
              "        vertical-align: middle;\n",
              "    }\n",
              "\n",
              "    .dataframe tbody tr th {\n",
              "        vertical-align: top;\n",
              "    }\n",
              "\n",
              "    .dataframe thead th {\n",
              "        text-align: right;\n",
              "    }\n",
              "</style>\n",
              "<table border=\"1\" class=\"dataframe\">\n",
              "  <thead>\n",
              "    <tr style=\"text-align: right;\">\n",
              "      <th></th>\n",
              "      <th>File</th>\n",
              "      <th>Class ID</th>\n",
              "      <th>Class Type</th>\n",
              "    </tr>\n",
              "  </thead>\n",
              "  <tbody>\n",
              "    <tr>\n",
              "      <th>0</th>\n",
              "      <td>N/mdb098.pgm</td>\n",
              "      <td>2</td>\n",
              "      <td>N</td>\n",
              "    </tr>\n",
              "    <tr>\n",
              "      <th>1</th>\n",
              "      <td>N/mdb038.pgm</td>\n",
              "      <td>2</td>\n",
              "      <td>N</td>\n",
              "    </tr>\n",
              "    <tr>\n",
              "      <th>2</th>\n",
              "      <td>N/mdb146.pgm</td>\n",
              "      <td>2</td>\n",
              "      <td>N</td>\n",
              "    </tr>\n",
              "    <tr>\n",
              "      <th>3</th>\n",
              "      <td>M/mdb072.pgm</td>\n",
              "      <td>0</td>\n",
              "      <td>M</td>\n",
              "    </tr>\n",
              "    <tr>\n",
              "      <th>4</th>\n",
              "      <td>B/mdb227.pgm</td>\n",
              "      <td>1</td>\n",
              "      <td>B</td>\n",
              "    </tr>\n",
              "  </tbody>\n",
              "</table>\n",
              "</div>\n",
              "      <button class=\"colab-df-convert\" onclick=\"convertToInteractive('df-6340d7ac-7749-4775-a28c-00be54c7358d')\"\n",
              "              title=\"Convert this dataframe to an interactive table.\"\n",
              "              style=\"display:none;\">\n",
              "        \n",
              "  <svg xmlns=\"http://www.w3.org/2000/svg\" height=\"24px\"viewBox=\"0 0 24 24\"\n",
              "       width=\"24px\">\n",
              "    <path d=\"M0 0h24v24H0V0z\" fill=\"none\"/>\n",
              "    <path d=\"M18.56 5.44l.94 2.06.94-2.06 2.06-.94-2.06-.94-.94-2.06-.94 2.06-2.06.94zm-11 1L8.5 8.5l.94-2.06 2.06-.94-2.06-.94L8.5 2.5l-.94 2.06-2.06.94zm10 10l.94 2.06.94-2.06 2.06-.94-2.06-.94-.94-2.06-.94 2.06-2.06.94z\"/><path d=\"M17.41 7.96l-1.37-1.37c-.4-.4-.92-.59-1.43-.59-.52 0-1.04.2-1.43.59L10.3 9.45l-7.72 7.72c-.78.78-.78 2.05 0 2.83L4 21.41c.39.39.9.59 1.41.59.51 0 1.02-.2 1.41-.59l7.78-7.78 2.81-2.81c.8-.78.8-2.07 0-2.86zM5.41 20L4 18.59l7.72-7.72 1.47 1.35L5.41 20z\"/>\n",
              "  </svg>\n",
              "      </button>\n",
              "      \n",
              "  <style>\n",
              "    .colab-df-container {\n",
              "      display:flex;\n",
              "      flex-wrap:wrap;\n",
              "      gap: 12px;\n",
              "    }\n",
              "\n",
              "    .colab-df-convert {\n",
              "      background-color: #E8F0FE;\n",
              "      border: none;\n",
              "      border-radius: 50%;\n",
              "      cursor: pointer;\n",
              "      display: none;\n",
              "      fill: #1967D2;\n",
              "      height: 32px;\n",
              "      padding: 0 0 0 0;\n",
              "      width: 32px;\n",
              "    }\n",
              "\n",
              "    .colab-df-convert:hover {\n",
              "      background-color: #E2EBFA;\n",
              "      box-shadow: 0px 1px 2px rgba(60, 64, 67, 0.3), 0px 1px 3px 1px rgba(60, 64, 67, 0.15);\n",
              "      fill: #174EA6;\n",
              "    }\n",
              "\n",
              "    [theme=dark] .colab-df-convert {\n",
              "      background-color: #3B4455;\n",
              "      fill: #D2E3FC;\n",
              "    }\n",
              "\n",
              "    [theme=dark] .colab-df-convert:hover {\n",
              "      background-color: #434B5C;\n",
              "      box-shadow: 0px 1px 3px 1px rgba(0, 0, 0, 0.15);\n",
              "      filter: drop-shadow(0px 1px 2px rgba(0, 0, 0, 0.3));\n",
              "      fill: #FFFFFF;\n",
              "    }\n",
              "  </style>\n",
              "\n",
              "      <script>\n",
              "        const buttonEl =\n",
              "          document.querySelector('#df-6340d7ac-7749-4775-a28c-00be54c7358d button.colab-df-convert');\n",
              "        buttonEl.style.display =\n",
              "          google.colab.kernel.accessAllowed ? 'block' : 'none';\n",
              "\n",
              "        async function convertToInteractive(key) {\n",
              "          const element = document.querySelector('#df-6340d7ac-7749-4775-a28c-00be54c7358d');\n",
              "          const dataTable =\n",
              "            await google.colab.kernel.invokeFunction('convertToInteractive',\n",
              "                                                     [key], {});\n",
              "          if (!dataTable) return;\n",
              "\n",
              "          const docLinkHtml = 'Like what you see? Visit the ' +\n",
              "            '<a target=\"_blank\" href=https://colab.research.google.com/notebooks/data_table.ipynb>data table notebook</a>'\n",
              "            + ' to learn more about interactive tables.';\n",
              "          element.innerHTML = '';\n",
              "          dataTable['output_type'] = 'display_data';\n",
              "          await google.colab.output.renderOutput(dataTable, element);\n",
              "          const docLink = document.createElement('div');\n",
              "          docLink.innerHTML = docLinkHtml;\n",
              "          element.appendChild(docLink);\n",
              "        }\n",
              "      </script>\n",
              "    </div>\n",
              "  </div>\n",
              "  "
            ]
          },
          "metadata": {},
          "execution_count": 5
        }
      ]
    },
    {
      "cell_type": "code",
      "source": [
        "\n",
        "plt.hist(train['Class ID'])\n",
        "plt.title('Frequency Histogram of Species')\n",
        "plt.figure(figsize=(12, 12))\n",
        "plt.show()"
      ],
      "metadata": {
        "colab": {
          "base_uri": "https://localhost:8080/",
          "height": 298
        },
        "id": "oEcIVdWlyQnB",
        "outputId": "b1a15a15-6df7-499e-dd8b-6b738a6dfb6f"
      },
      "execution_count": 6,
      "outputs": [
        {
          "output_type": "display_data",
          "data": {
            "text/plain": [
              "<Figure size 432x288 with 1 Axes>"
            ],
            "image/png": "[encoded data removed]"
          },
          "metadata": {
            "needs_background": "light"
          }
        },
        {
          "output_type": "display_data",
          "data": {
            "text/plain": [
              "<Figure size 864x864 with 0 Axes>"
            ]
          },
          "metadata": {}
        }
      ]
    },
    {
      "cell_type": "code",
      "source": [
        "\n",
        "IMAGE_SIZE = 224\n",
        "def read_image(filepath):\n",
        "    return cv2.imread(os.path.join(data_dir, filepath)) # Loading a color image is the default flag\n",
        "# Resize image to target size\n",
        "def resize_image(image, image_size):\n",
        "    return cv2.resize(image.copy(), image_size, interpolation=cv2.INTER_AREA)\n",
        "    "
      ],
      "metadata": {
        "id": "rl7NCyPMyTE0"
      },
      "execution_count": 7,
      "outputs": []
    },
    {
      "cell_type": "code",
      "source": [
        "X_train = np.zeros((train.shape[0], IMAGE_SIZE, IMAGE_SIZE, 3))\n",
        "for i, file in tqdm(enumerate(train['File'].values)):\n",
        "    image = read_image(file)\n",
        "    if image is not None:\n",
        "        X_train[i] = resize_image(image, (IMAGE_SIZE, IMAGE_SIZE))\n",
        "# Normalize the data\n",
        "X_Train = X_train / 255.\n",
        "print('Train Shape: {}'.format(X_Train.shape))\n",
        "     "
      ],
      "metadata": {
        "colab": {
          "base_uri": "https://localhost:8080/"
        },
        "id": "ye1gsZDIyYUZ",
        "outputId": "0fa4f231-2d19-4526-a86b-26f1862643ca"
      },
      "execution_count": 8,
      "outputs": [
        {
          "output_type": "stream",
          "name": "stderr",
          "text": [
            "322it [00:46,  6.96it/s]"
          ]
        },
        {
          "output_type": "stream",
          "name": "stdout",
          "text": [
            "Train Shape: (322, 224, 224, 3)\n"
          ]
        },
        {
          "output_type": "stream",
          "name": "stderr",
          "text": [
            "\n"
          ]
        }
      ]
    },
    {
      "cell_type": "code",
      "source": [
        "Y_train = train['Class ID'].values\n",
        "Y_train = to_categorical(Y_train, num_classes=3)"
      ],
      "metadata": {
        "id": "x5OnvvGLyZ-s"
      },
      "execution_count": 9,
      "outputs": []
    },
    {
      "cell_type": "code",
      "source": [
        "\n",
        "BATCH_SIZE = 64\n",
        "# Split the train and validation sets \n",
        "X_train, X_val, Y_train, Y_val = train_test_split(X_Train, Y_train, test_size=0.2, random_state=SEED)\n",
        "     "
      ],
      "metadata": {
        "id": "IciPCpplybuY"
      },
      "execution_count": 10,
      "outputs": []
    },
    {
      "cell_type": "code",
      "source": [
        "import tensorflow as tf\n",
        "from tensorflow.keras.applications import ResNet101\n",
        "from tensorflow.keras.layers import Dense, Flatten\n",
        "from tensorflow.keras.models import Model\n",
        "from tensorflow.keras.optimizers import Adam"
      ],
      "metadata": {
        "id": "OhewIcI2LeTM"
      },
      "execution_count": 13,
      "outputs": []
    },
    {
      "cell_type": "code",
      "source": [
        "from keras.layers import Dense, Flatten\n",
        "from keras.models import Sequential\n",
        "\n",
        "def create_ResNet101_CNN(input_shape=(224, 224, 3), num_classes=3):\n",
        "    # Load the ResNet101 model pre-trained on ImageNet\n",
        "    base_model = ResNet101(weights='imagenet', include_top=False, input_shape=input_shape)\n",
        "\n",
        "    # Freeze the base model's layers so that they're not trainable\n",
        "    for layer in base_model.layers:\n",
        "        layer.trainable = False\n",
        "\n",
        "    # Create a new model using the ResNet101 base and additional layers\n",
        "    model = Sequential()\n",
        "    model.add(base_model)\n",
        "    model.add(Flatten())\n",
        "    model.add(Dense(256, activation='relu'))\n",
        "    model.add(Dense(num_classes, activation='softmax'))\n",
        "\n",
        "    # Compile the model with categorical cross-entropy loss and Adam optimizer\n",
        "    model.compile(loss='categorical_crossentropy', optimizer='adam', metrics=['accuracy'])\n",
        "\n",
        "    return model\n",
        "\n",
        "# Create a ResNet101-based CNN with default input shape (224x224x3) and 3 output classes\n",
        "model = create_ResNet101_CNN()\n",
        "\n",
        "# Train the model on your data for 50 epochs\n",
        "hist = model.fit(X_train, Y_train, validation_data=(X_val, Y_val), epochs=50)\n"
      ],
      "metadata": {
        "colab": {
          "base_uri": "https://localhost:8080/"
        },
        "id": "KkDs845SyARA",
        "outputId": "01918202-c7ce-4d80-a7af-068fa8f034bf"
      },
      "execution_count": 15,
      "outputs": [
        {
          "output_type": "stream",
          "name": "stdout",
          "text": [
            "Downloading data from https://storage.googleapis.com/tensorflow/keras-applications/resnet/resnet101_weights_tf_dim_ordering_tf_kernels_notop.h5\n",
            "171446536/171446536 [==============================] - 1s 0us/step\n",
            "Epoch 1/50\n",
            "9/9 [==============================] - 77s 8s/step - loss: 9.8084 - accuracy: 0.4514 - val_loss: 2.7936 - val_accuracy: 0.5538\n",
            "Epoch 2/50\n",
            "9/9 [==============================] - 78s 9s/step - loss: 2.3512 - accuracy: 0.4864 - val_loss: 2.7795 - val_accuracy: 0.1231\n",
            "Epoch 3/50\n",
            "9/9 [==============================] - 77s 9s/step - loss: 2.6084 - accuracy: 0.3619 - val_loss: 1.2706 - val_accuracy: 0.7231\n",
            "Epoch 4/50\n",
            "9/9 [==============================] - 79s 9s/step - loss: 1.4358 - accuracy: 0.5681 - val_loss: 1.2128 - val_accuracy: 0.7231\n",
            "Epoch 5/50\n",
            "9/9 [==============================] - 70s 8s/step - loss: 1.5705 - accuracy: 0.5447 - val_loss: 3.0292 - val_accuracy: 0.1231\n",
            "Epoch 6/50\n",
            "9/9 [==============================] - 78s 9s/step - loss: 2.3407 - accuracy: 0.5409 - val_loss: 0.8821 - val_accuracy: 0.7077\n",
            "Epoch 7/50\n",
            "9/9 [==============================] - 77s 9s/step - loss: 1.3750 - accuracy: 0.5486 - val_loss: 0.8744 - val_accuracy: 0.6462\n",
            "Epoch 8/50\n",
            "9/9 [==============================] - 75s 8s/step - loss: 0.8583 - accuracy: 0.6070 - val_loss: 0.9584 - val_accuracy: 0.5077\n",
            "Epoch 9/50\n",
            "9/9 [==============================] - 78s 9s/step - loss: 0.8759 - accuracy: 0.6459 - val_loss: 4.4260 - val_accuracy: 0.1231\n",
            "Epoch 10/50\n",
            "9/9 [==============================] - 72s 8s/step - loss: 2.7486 - accuracy: 0.4864 - val_loss: 1.6599 - val_accuracy: 0.7231\n",
            "Epoch 11/50\n",
            "9/9 [==============================] - 79s 9s/step - loss: 1.6582 - accuracy: 0.5409 - val_loss: 1.3733 - val_accuracy: 0.4923\n",
            "Epoch 12/50\n",
            "9/9 [==============================] - 79s 9s/step - loss: 1.5130 - accuracy: 0.4981 - val_loss: 1.8500 - val_accuracy: 0.7231\n",
            "Epoch 13/50\n",
            "9/9 [==============================] - 80s 9s/step - loss: 1.7640 - accuracy: 0.5253 - val_loss: 1.5660 - val_accuracy: 0.5846\n",
            "Epoch 14/50\n",
            "9/9 [==============================] - 72s 8s/step - loss: 1.8512 - accuracy: 0.5331 - val_loss: 1.3571 - val_accuracy: 0.4000\n",
            "Epoch 15/50\n",
            "9/9 [==============================] - 79s 9s/step - loss: 1.2483 - accuracy: 0.5914 - val_loss: 1.7267 - val_accuracy: 0.1692\n",
            "Epoch 16/50\n",
            "9/9 [==============================] - 84s 10s/step - loss: 1.7916 - accuracy: 0.4436 - val_loss: 3.9764 - val_accuracy: 0.1231\n",
            "Epoch 17/50\n",
            "9/9 [==============================] - 73s 8s/step - loss: 2.2665 - accuracy: 0.5253 - val_loss: 1.7044 - val_accuracy: 0.1846\n",
            "Epoch 18/50\n",
            "9/9 [==============================] - 78s 9s/step - loss: 2.2458 - accuracy: 0.4280 - val_loss: 1.9345 - val_accuracy: 0.7231\n",
            "Epoch 19/50\n",
            "9/9 [==============================] - 79s 9s/step - loss: 1.6963 - accuracy: 0.5409 - val_loss: 1.8008 - val_accuracy: 0.3077\n",
            "Epoch 20/50\n",
            "9/9 [==============================] - 71s 8s/step - loss: 2.2769 - accuracy: 0.5603 - val_loss: 1.4859 - val_accuracy: 0.7231\n",
            "Epoch 21/50\n",
            "9/9 [==============================] - 79s 9s/step - loss: 1.3432 - accuracy: 0.6342 - val_loss: 0.8576 - val_accuracy: 0.7077\n",
            "Epoch 22/50\n",
            "9/9 [==============================] - 78s 9s/step - loss: 0.8913 - accuracy: 0.5953 - val_loss: 1.1017 - val_accuracy: 0.3846\n",
            "Epoch 23/50\n",
            "9/9 [==============================] - 79s 9s/step - loss: 1.0979 - accuracy: 0.5564 - val_loss: 0.8727 - val_accuracy: 0.7231\n",
            "Epoch 24/50\n",
            "9/9 [==============================] - 77s 9s/step - loss: 0.8940 - accuracy: 0.6226 - val_loss: 0.9195 - val_accuracy: 0.6923\n",
            "Epoch 25/50\n",
            "9/9 [==============================] - 71s 8s/step - loss: 0.9074 - accuracy: 0.6576 - val_loss: 0.8175 - val_accuracy: 0.7231\n",
            "Epoch 26/50\n",
            "9/9 [==============================] - 79s 9s/step - loss: 1.0382 - accuracy: 0.5409 - val_loss: 0.8673 - val_accuracy: 0.7231\n",
            "Epoch 27/50\n",
            "9/9 [==============================] - 78s 9s/step - loss: 0.9259 - accuracy: 0.6420 - val_loss: 0.8803 - val_accuracy: 0.6769\n",
            "Epoch 28/50\n",
            "9/9 [==============================] - 79s 9s/step - loss: 0.8071 - accuracy: 0.6770 - val_loss: 0.8079 - val_accuracy: 0.7231\n",
            "Epoch 29/50\n",
            "9/9 [==============================] - 78s 9s/step - loss: 0.7963 - accuracy: 0.6537 - val_loss: 0.8345 - val_accuracy: 0.7231\n",
            "Epoch 30/50\n",
            "9/9 [==============================] - 78s 9s/step - loss: 0.8241 - accuracy: 0.6848 - val_loss: 0.8708 - val_accuracy: 0.7231\n",
            "Epoch 31/50\n",
            "9/9 [==============================] - 72s 8s/step - loss: 0.8263 - accuracy: 0.6615 - val_loss: 0.8470 - val_accuracy: 0.6769\n",
            "Epoch 32/50\n",
            "9/9 [==============================] - 78s 9s/step - loss: 0.7613 - accuracy: 0.7004 - val_loss: 1.0658 - val_accuracy: 0.5231\n",
            "Epoch 33/50\n",
            "9/9 [==============================] - 78s 9s/step - loss: 1.0727 - accuracy: 0.5253 - val_loss: 1.0748 - val_accuracy: 0.7231\n",
            "Epoch 34/50\n",
            "9/9 [==============================] - 79s 9s/step - loss: 0.9848 - accuracy: 0.6070 - val_loss: 0.9482 - val_accuracy: 0.5231\n",
            "Epoch 35/50\n",
            "9/9 [==============================] - 78s 9s/step - loss: 0.9713 - accuracy: 0.6148 - val_loss: 1.2269 - val_accuracy: 0.6000\n",
            "Epoch 36/50\n",
            "9/9 [==============================] - 79s 9s/step - loss: 0.9231 - accuracy: 0.6615 - val_loss: 0.9928 - val_accuracy: 0.5538\n",
            "Epoch 37/50\n",
            "9/9 [==============================] - 79s 9s/step - loss: 1.2306 - accuracy: 0.4241 - val_loss: 1.1630 - val_accuracy: 0.3846\n",
            "Epoch 38/50\n",
            "9/9 [==============================] - 78s 9s/step - loss: 1.0399 - accuracy: 0.6265 - val_loss: 1.0138 - val_accuracy: 0.7231\n",
            "Epoch 39/50\n",
            "9/9 [==============================] - 78s 9s/step - loss: 0.9622 - accuracy: 0.6031 - val_loss: 0.8467 - val_accuracy: 0.7231\n",
            "Epoch 40/50\n",
            "9/9 [==============================] - 78s 9s/step - loss: 0.8548 - accuracy: 0.6420 - val_loss: 0.8643 - val_accuracy: 0.7231\n",
            "Epoch 41/50\n",
            "9/9 [==============================] - 78s 9s/step - loss: 0.8077 - accuracy: 0.6654 - val_loss: 0.8794 - val_accuracy: 0.6923\n",
            "Epoch 42/50\n",
            "9/9 [==============================] - 78s 9s/step - loss: 0.8000 - accuracy: 0.6576 - val_loss: 0.9890 - val_accuracy: 0.6000\n",
            "Epoch 43/50\n",
            "9/9 [==============================] - 79s 9s/step - loss: 1.0581 - accuracy: 0.4669 - val_loss: 0.8765 - val_accuracy: 0.7077\n",
            "Epoch 44/50\n",
            "9/9 [==============================] - 77s 9s/step - loss: 1.1378 - accuracy: 0.4864 - val_loss: 1.1043 - val_accuracy: 0.6462\n",
            "Epoch 45/50\n",
            "9/9 [==============================] - 79s 9s/step - loss: 1.2250 - accuracy: 0.6304 - val_loss: 0.9540 - val_accuracy: 0.7231\n",
            "Epoch 46/50\n",
            "9/9 [==============================] - 72s 8s/step - loss: 1.2103 - accuracy: 0.4786 - val_loss: 1.1657 - val_accuracy: 0.3538\n",
            "Epoch 47/50\n",
            "9/9 [==============================] - 79s 9s/step - loss: 0.9970 - accuracy: 0.5875 - val_loss: 0.9717 - val_accuracy: 0.7077\n",
            "Epoch 48/50\n",
            "9/9 [==============================] - 78s 9s/step - loss: 0.8861 - accuracy: 0.6615 - val_loss: 1.0452 - val_accuracy: 0.4154\n",
            "Epoch 49/50\n",
            "9/9 [==============================] - 79s 9s/step - loss: 0.9472 - accuracy: 0.5837 - val_loss: 0.8733 - val_accuracy: 0.7231\n",
            "Epoch 50/50\n",
            "9/9 [==============================] - 78s 9s/step - loss: 0.8833 - accuracy: 0.6420 - val_loss: 0.8127 - val_accuracy: 0.7231\n"
          ]
        }
      ]
    },
    {
      "cell_type": "code",
      "source": [
        "\n",
        "Y_pred = model.predict(X_val)\n",
        "Y_pred = np.argmax(Y_pred, axis=1)\n",
        "Y_true = np.argmax(Y_val, axis=1)\n",
        "cm = confusion_matrix(Y_true, Y_pred)\n",
        "plt.figure(figsize=(12, 12))\n",
        "ax = sns.heatmap(cm, cmap=plt.cm.Greens, annot=True, square=True)\n",
        "ax.set_ylabel('Actual', fontsize=40)\n",
        "ax.set_xlabel('Predicted', fontsize=40)"
      ],
      "metadata": {
        "colab": {
          "base_uri": "https://localhost:8080/",
          "height": 724
        },
        "id": "rYm_Qp6FzPgt",
        "outputId": "05a472c6-012a-4d23-cbcd-302bfba04307"
      },
      "execution_count": 16,
      "outputs": [
        {
          "output_type": "stream",
          "name": "stdout",
          "text": [
            "3/3 [==============================] - 16s 4s/step\n"
          ]
        },
        {
          "output_type": "execute_result",
          "data": {
            "text/plain": [
              "Text(0.5, 145.31999999999996, 'Predicted')"
            ]
          },
          "metadata": {},
          "execution_count": 16
        },
        {
          "output_type": "display_data",
          "data": {
            "text/plain": [
              "<Figure size 864x864 with 2 Axes>"
            ],
            "image/png": "[encoded data removed]"
          },
          "metadata": {
            "needs_background": "light"
          }
        }
      ]
    },
    {
      "cell_type": "code",
      "source": [
        "\n",
        "# accuracy plot \n",
        "plt.plot(hist.history['accuracy'])\n",
        "plt.plot(hist.history['val_accuracy'])\n",
        "plt.title('model accuracy')\n",
        "plt.ylabel('accuracy')\n",
        "plt.xlabel('epoch')\n",
        "plt.legend(['train', 'test'], loc='upper left')\n",
        "plt.show()\n",
        "\n",
        "# loss plot\n",
        "plt.plot(hist.history['loss'])\n",
        "plt.plot(hist.history['val_loss'])\n",
        "plt.title('model loss')\n",
        "plt.ylabel('loss')\n",
        "plt.xlabel('epoch')\n",
        "plt.legend(['train', 'test'], loc='upper left')\n",
        "plt.show()\n",
        "     "
      ],
      "metadata": {
        "colab": {
          "base_uri": "https://localhost:8080/",
          "height": 573
        },
        "id": "hfsRug9-zRgm",
        "outputId": "5ca0aa83-d395-4e54-8c7d-58a8191c7039"
      },
      "execution_count": 17,
      "outputs": [
        {
          "output_type": "display_data",
          "data": {
            "text/plain": [
              "<Figure size 432x288 with 1 Axes>"
            ],
            "image/png": "[encoded data removed]"
          },
          "metadata": {
            "needs_background": "light"
          }
        },
        {
          "output_type": "display_data",
          "data": {
            "text/plain": [
              "<Figure size 432x288 with 1 Axes>"
            ],
            "image/png": "[encoded data removed]"
          },
          "metadata": {
            "needs_background": "light"
          }
        }
      ]
    },
    {
      "cell_type": "code",
      "source": [
        "\n",
        "from skimage import io\n",
        "#path='imbalanced/Scratch/Scratch_400.jpg'\n",
        "import keras.utils as image\n",
        "img = image.load_img('/content/drive/MyDrive/data/Breast Cancer Dataset/M/mdb095.pgm', grayscale=False, target_size=(224, 224))\n",
        "show_img=image.load_img('/content/drive/MyDrive/data/Breast Cancer Dataset/M/mdb095.pgm', grayscale=False, target_size=(224, 224))\n",
        "disease_class=['M','B','N']\n",
        "x = image.img_to_array(img)\n",
        "x = np.expand_dims(x, axis = 0)\n",
        "x /= 255\n",
        "custom = model.predict(x)\n",
        "print(custom[0])\n",
        "\n",
        "plt.imshow(show_img)\n",
        "plt.show()\n",
        "\n",
        "a=custom[0]\n",
        "ind=np.argmax(a)\n",
        "        \n",
        "print('Prediction:',disease_class[ind])"
      ],
      "metadata": {
        "colab": {
          "base_uri": "https://localhost:8080/",
          "height": 321
        },
        "id": "n5ZrW9K2zSVb",
        "outputId": "55ebe9ec-f491-4f79-a6dc-16f4d5325fe6"
      },
      "execution_count": null,
      "outputs": [
        {
          "output_type": "stream",
          "name": "stdout",
          "text": [
            "1/1 [==============================] - 0s 246ms/step\n",
            "[0.10470998 0.20564866 0.6896413 ]\n"
          ]
        },
        {
          "output_type": "display_data",
          "data": {
            "text/plain": [
              "<Figure size 432x288 with 1 Axes>"
            ],
            "image/png": "[encoded data removed]"
          },
          "metadata": {
            "needs_background": "light"
          }
        },
        {
          "output_type": "stream",
          "name": "stdout",
          "text": [
            "Prediction: N\n"
          ]
        }
      ]
    }
  ]
}